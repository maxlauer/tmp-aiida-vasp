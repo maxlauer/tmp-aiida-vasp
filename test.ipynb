{
 "cells": [
  {
   "cell_type": "code",
   "execution_count": 1,
   "id": "b2837528",
   "metadata": {},
   "outputs": [
    {
     "data": {
      "text/plain": [
       "Profile<uuid='f4d23725fea446908276e21eedde97d3' name='lauerm-test'>"
      ]
     },
     "execution_count": 1,
     "metadata": {},
     "output_type": "execute_result"
    }
   ],
   "source": [
    "import numpy as np\n",
    "\n",
    "from aiida import load_profile\n",
    "\n",
    "from aiida.engine import WorkChain, calcfunction\n",
    "from aiida.plugins import DataFactory, WorkflowFactory\n",
    "\n",
    "from aiida.common.extendeddicts import AttributeDict\n",
    "\n",
    "from aiida_vasp_ext_mlauer.util.structures import gen_aiida_structure\n",
    "from aiida_vasp_ext_mlauer.workflows.vol_opt import generate_eos_structures\n",
    "\n",
    "load_profile('lauerm-test')"
   ]
  },
  {
   "cell_type": "code",
   "execution_count": 2,
   "id": "e98e40e0",
   "metadata": {},
   "outputs": [
    {
     "name": "stdout",
     "output_type": "stream",
     "text": [
      "[0.9  0.92 0.94 0.96 0.98 1.   1.02 1.04 1.06 1.08 1.1 ]\n",
      "[0.90909091 0.92658625 0.94441829 0.9625935  0.9811185  1.\n",
      " 1.01924488 1.03886012 1.05885285 1.07923035 1.1       ]\n"
     ]
    }
   ],
   "source": [
    "# Set up structure for testing - hexagonal GaN\n",
    "a = 3.33\n",
    "c_over_a = 1.602\n",
    "\n",
    "lat = np.array([\n",
    "    [1/2, -np.sqrt(3)/2,         0],\n",
    "    [1/2,  np.sqrt(3)/2,         0],\n",
    "    [  0,             0,  c_over_a]\n",
    "    ])\n",
    "\n",
    "basis_pos = np.array([\n",
    "    [1/3, 2/3, 0],\n",
    "    [2/3, 1/3, 0],\n",
    "    [1/3, 2/3, 0],\n",
    "    [2/3, 1/3, 0]\n",
    "    ])\n",
    "basis_atm = [\"Ga\", \"Ga\", \"N\", \"N\"]\n",
    "basis = (basis_atm, basis_pos)\n",
    "\n",
    "structure = gen_aiida_structure(a, lat, *basis)\n",
    "\n",
    "\n",
    "# set up builder.\n",
    "struc = structure.get_pymatgen()\n",
    "\n",
    "structure_generation = AttributeDict()\n",
    "structure_generation.parameters = {'mode': 'uniform'}\n",
    "structure_generation.max_volume_scaling = 0.1\n",
    "structure_generation.lattice_points = 11\n",
    "\n",
    "\n",
    "structure_generation.max_volume_scaling, structure_generation.parameters\n",
    "structures = (generate_eos_structures(structure, structure_generation))\n",
    "structure_generation.parameters = {'mode': 'geometric'}\n",
    "structures_2 = (generate_eos_structures(structure, structure_generation))"
   ]
  },
  {
   "cell_type": "code",
   "execution_count": 3,
   "id": "7931dcfb",
   "metadata": {},
   "outputs": [
    {
     "data": {
      "text/plain": [
       "(array([0.90909091, 0.92658625, 0.94441829, 0.9625935 , 0.9811185 ,\n",
       "        1.        ]),\n",
       " array([1.        , 1.01924488, 1.03886012, 1.05885285, 1.07923035,\n",
       "        1.1       ]))"
      ]
     },
     "execution_count": 3,
     "metadata": {},
     "output_type": "execute_result"
    }
   ],
   "source": [
    "max_vol_dev = 0.1\n",
    "half_num_pts = 11 // 2 + 1\n",
    "vol_devs = np.geomspace(1, 1+max_vol_dev, half_num_pts) # logarithmic spacing for compression (negative values have to be handled separately, as log can't handle them ..)\n",
    "\n",
    "vol_dev_comp = 1/vol_devs[::-1]\n",
    "vol_dev_exp = vol_devs\n",
    "\n",
    "vol_dev_comp, vol_dev_exp\n",
    "# np.unique(np.concatenate([vol_dev_comp, vol_dev_exp])).size, vol_dev_exp.size +vol_dev_comp.size"
   ]
  },
  {
   "cell_type": "code",
   "execution_count": null,
   "id": "206ad644",
   "metadata": {},
   "outputs": [
    {
     "data": {
      "text/plain": [
       "array([0.        , 0.00548202, 0.01096405, 0.01644607, 0.0219281 ,\n",
       "       0.02741012, 0.03289215, 0.03837417, 0.0438562 , 0.04933822,\n",
       "       0.05482024])"
      ]
     },
     "execution_count": 35,
     "metadata": {},
     "output_type": "execute_result"
    }
   ],
   "source": [
    "max_vol_dev = 0.1\n",
    "delta = 2 * max_vol_dev \n",
    "num = 11\n",
    "\n",
    "y = np.arange(0, num).reshape((-1,) + (1,) * 0)\n",
    "\n",
    "step = delta / num**1.5\n",
    "\n",
    "y = y * step \n",
    "yb\n"
   ]
  },
  {
   "cell_type": "code",
   "execution_count": null,
   "id": "939db416",
   "metadata": {},
   "outputs": [
    {
     "name": "stdout",
     "output_type": "stream",
     "text": [
      "[-1.  -0.8 -0.6 -0.4 -0.2  0.   0.2  0.4  0.6  0.8  1. ]\n",
      "[-0.1        -0.07155418 -0.0464758  -0.02529822 -0.00894427  0.\n",
      "  0.00894427  0.02529822  0.0464758   0.07155418  0.1       ]\n"
     ]
    },
    {
     "data": {
      "text/plain": [
       "array([-0.1       , -0.07155418, -0.0464758 , -0.02529822, -0.00894427,\n",
       "        0.        ,  0.00894427,  0.02529822,  0.0464758 ,  0.07155418,\n",
       "        0.1       ])"
      ]
     },
     "execution_count": 55,
     "metadata": {},
     "output_type": "execute_result"
    }
   ],
   "source": [
    "def myspace(start, stop, num, pwr=1):\n",
    "    \n",
    "    delta = np.difference([start, stop])\n",
    "    dev = delta / num\n",
    "\n",
    "    # linear space from -1 to 1\n",
    "    points = np.linspace(-1, 1, num)\n",
    "    print(x)\n",
    "\n",
    "    # apply power-law\n",
    "    points = (np.sign(x) * np.abs(x)**pwr) * dev\n",
    "    print(x_transformed)\n",
    "    # scale to actual interval\n",
    "\n",
    "\n",
    "    return x_transformed\n",
    "\n",
    "myspace(-max_vol_dev, max_vol_dev, 11)"
   ]
  },
  {
   "cell_type": "code",
   "execution_count": 64,
   "id": "9ee39d78",
   "metadata": {},
   "outputs": [
    {
     "name": "stdout",
     "output_type": "stream",
     "text": [
      "[-1.  -0.8 -0.6 -0.4 -0.2  0.   0.2  0.4  0.6  0.8  1. ]\n",
      "[-0.1        -0.07155418 -0.0464758  -0.02529822 -0.00894427  0.\n",
      "  0.00894427  0.02529822  0.0464758   0.07155418  0.1       ]\n",
      "[-1.  -0.8 -0.6 -0.4 -0.2  0.   0.2  0.4  0.6  0.8  1. ]\n",
      "[-0.1        -0.07823462 -0.05701201 -0.03649774 -0.0170268   0.\n",
      "  0.0170268   0.03649774  0.05701201  0.07823462  0.1       ]\n",
      "[-1.  -0.8 -0.6 -0.4 -0.2  0.   0.2  0.4  0.6  0.8  1. ]\n",
      "[-0.1        -0.0765082  -0.05417283 -0.03330213 -0.01449559  0.\n",
      "  0.01449559  0.03330213  0.05417283  0.0765082   0.1       ]\n",
      "[-1.  -0.8 -0.6 -0.4 -0.2  0.   0.2  0.4  0.6  0.8  1. ]\n",
      "[-0.1        -0.07481988 -0.05147503 -0.03038631 -0.01234068  0.\n",
      "  0.01234068  0.03038631  0.05147503  0.07481988  0.1       ]\n",
      "[-1.  -0.8 -0.6 -0.4 -0.2  0.   0.2  0.4  0.6  0.8  1. ]\n",
      "[-0.1        -0.07316881 -0.04891159 -0.02772579 -0.01050611  0.\n",
      "  0.01050611  0.02772579  0.04891159  0.07316881  0.1       ]\n",
      "[-1.  -0.8 -0.6 -0.4 -0.2  0.   0.2  0.4  0.6  0.8  1. ]\n",
      "[-0.1        -0.07155418 -0.0464758  -0.02529822 -0.00894427  0.\n",
      "  0.00894427  0.02529822  0.0464758   0.07155418  0.1       ]\n",
      "[-1.  -0.8 -0.6 -0.4 -0.2  0.   0.2  0.4  0.6  0.8  1. ]\n",
      "[-0.1        -0.06997517 -0.04416132 -0.0230832  -0.00761462  0.\n",
      "  0.00761462  0.0230832   0.04416132  0.06997517  0.1       ]\n",
      "[-1.  -0.8 -0.6 -0.4 -0.2  0.   0.2  0.4  0.6  0.8  1. ]\n",
      "[-0.1        -0.06843101 -0.04196209 -0.02106212 -0.00648263  0.\n",
      "  0.00648263  0.02106212  0.04196209  0.06843101  0.1       ]\n",
      "[-1.  -0.8 -0.6 -0.4 -0.2  0.   0.2  0.4  0.6  0.8  1. ]\n",
      "[-0.1        -0.06692093 -0.03987239 -0.01921799 -0.00551892  0.\n",
      "  0.00551892  0.01921799  0.03987239  0.06692093  0.1       ]\n",
      "[-1.  -0.8 -0.6 -0.4 -0.2  0.   0.2  0.4  0.6  0.8  1. ]\n",
      "[-0.1        -0.06544417 -0.03788675 -0.01753533 -0.00469848  0.\n",
      "  0.00469848  0.01753533  0.03788675  0.06544417  0.1       ]\n",
      "[-1.  -0.8 -0.6 -0.4 -0.2  0.   0.2  0.4  0.6  0.8  1. ]\n",
      "[-0.1   -0.064 -0.036 -0.016 -0.004  0.     0.004  0.016  0.036  0.064\n",
      "  0.1  ]\n"
     ]
    },
    {
     "data": {
      "text/plain": [
       "(0.8, 2.2)"
      ]
     },
     "execution_count": 64,
     "metadata": {},
     "output_type": "execute_result"
    },
    {
     "data": {
      "image/png": "[encoded data removed]",
      "text/plain": [
       "<Figure size 640x480 with 1 Axes>"
      ]
     },
     "metadata": {},
     "output_type": "display_data"
    }
   ],
   "source": [
    "v = structure.get_cell_volume()\n",
    "num_pts = 11\n",
    "\n",
    "vol_dev_lin = np.linspace(-max_vol_dev, max_vol_dev, num_pts)\n",
    "vol_dev_inv = myspace(0, max_vol_dev, num_pts)\n",
    "\n",
    "volumes_lin = v * vol_dev_lin\n",
    "volumes_inv = v * vol_dev_inv\n",
    "idxes = np.ones(shape=(num_pts,))\n",
    "\n",
    "import matplotlib.pyplot as plt\n",
    "\n",
    "fig, ax = plt.subplots()\n",
    "ax.scatter(vol_dev_lin, idxes, label='linear spacing')\n",
    "for pwr in [1.1, 1.2, 1.3, 1.4, 1.5, 1.6, 1.7, 1.8, 1.9, 2.0]:\n",
    "    ax.scatter(myspace(0, max_vol_dev, num_pts, pwr=pwr), idxes*pwr, label='linear spacing')\n",
    "\n",
    "dev = 1 / np.linspace(1/max_vol_dev, 100, int(num_pts/2))\n",
    "dev_2 = np.unique(np.concatenate([-dev[::-1], dev]))\n",
    "ax.scatter(dev_2, [0.9 for i in dev_2], label='inverse spacing')\n",
    "\n",
    "ax.set_ylim(0.8, 2.2)"
   ]
  }
 ],
 "metadata": {
  "kernelspec": {
   "display_name": "aiida",
   "language": "python",
   "name": "python3"
  },
  "language_info": {
   "codemirror_mode": {
    "name": "ipython",
    "version": 3
   },
   "file_extension": ".py",
   "mimetype": "text/x-python",
   "name": "python",
   "nbconvert_exporter": "python",
   "pygments_lexer": "ipython3",
   "version": "3.12.6"
  }
 },
 "nbformat": 4,
 "nbformat_minor": 5
}
