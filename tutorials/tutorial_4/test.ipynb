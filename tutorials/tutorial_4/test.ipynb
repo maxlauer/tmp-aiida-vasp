{
 "cells": [
  {
   "cell_type": "code",
   "execution_count": null,
   "id": "d433538d",
   "metadata": {},
   "outputs": [
    {
     "data": {
      "text/plain": [
       "Profile<uuid='34741e4bf9c34bd7b9ae17bef7c5da2e' name='lauerm-test'>"
      ]
     },
     "execution_count": 8,
     "metadata": {},
     "output_type": "execute_result"
    }
   ],
   "source": [
    "import numpy as np \n",
    "import matplotlib.pyplot as plt\n",
    "import io \n",
    "\n",
    "from pathlib import Path\n",
    "from scipy.interpolate import CubicSpline\n",
    "from scipy.optimize import curve_fit, minimize\n",
    "\n",
    "from aiida import load_profile\n",
    "from aiida.orm import Dict, load_node\n",
    "from aiida.plugins import DataFactory\n",
    "\n",
    "from aiida_vasp_ext_mlauer.util.structures import gen\n",
    "\n",
    "load_profile('lauerm-test')"
   ]
  },
  {
   "cell_type": "code",
   "execution_count": null,
   "id": "d6070d22",
   "metadata": {},
   "outputs": [
    {
     "data": {
      "text/plain": [
       "True"
      ]
     },
     "execution_count": 6,
     "metadata": {},
     "output_type": "execute_result"
    }
   ],
   "source": [
    "# Set up structure for testing - hexagonal GaN\n",
    "a = 3.33\n",
    "c_over_a = 1.602\n",
    "\n",
    "lat = np.array([\n",
    "    [1/2, -np.sqrt(3)/2,         0],\n",
    "    [1/2,  np.sqrt(3)/2,         0],\n",
    "    [  0,             0,  c_over_a]\n",
    "    ])\n",
    "\n",
    "basis_pos = np.array([\n",
    "    [1/3, 2/3, 0],\n",
    "    [2/3, 1/3, 0],\n",
    "    [1/3, 2/3, 0],\n",
    "    [2/3, 1/3, 0]\n",
    "    ])\n",
    "basis_atm = [\"Ga\", \"Ga\", \"N\", \"N\"]\n",
    "basis = (basis_atm, basis_pos)\n",
    "\n",
    "structure = gen_aiida_structure(a, lat, *basis)\n",
    "\n",
    "\n",
    "# set up builder.\n",
    "struc = structure.get_pymatgen()\n",
    "\n",
    "structure_generation = AttributeDict()\n",
    "structure_generation.parameters = {'mode': 'uniform'}\n",
    "structure_generation.max_volume_scaling = 0.1\n",
    "structure_generation.lattice_points = 5\n",
    "\n",
    "\n",
    "print(structure_generation.max_volume_scaling, structure_generation.parameters)\n",
    "print(generate_eos_structures(structure, structure_generation))\n"
   ]
  }
 ],
 "metadata": {
  "kernelspec": {
   "display_name": "aiida",
   "language": "python",
   "name": "python3"
  },
  "language_info": {
   "codemirror_mode": {
    "name": "ipython",
    "version": 3
   },
   "file_extension": ".py",
   "mimetype": "text/x-python",
   "name": "python",
   "nbconvert_exporter": "python",
   "pygments_lexer": "ipython3",
   "version": "3.12.6"
  }
 },
 "nbformat": 4,
 "nbformat_minor": 5
}
