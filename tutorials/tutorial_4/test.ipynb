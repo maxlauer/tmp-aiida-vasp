{
 "cells": [
  {
   "cell_type": "code",
   "execution_count": 8,
   "id": "d433538d",
   "metadata": {},
   "outputs": [
    {
     "data": {
      "text/plain": [
       "Profile<uuid='34741e4bf9c34bd7b9ae17bef7c5da2e' name='lauerm-test'>"
      ]
     },
     "execution_count": 8,
     "metadata": {},
     "output_type": "execute_result"
    }
   ],
   "source": [
    "import numpy as np \n",
    "import matplotlib.pyplot as plt\n",
    "import io \n",
    "\n",
    "from pathlib import Path\n",
    "from scipy.interpolate import CubicSpline\n",
    "from scipy.optimize import curve_fit, minimize\n",
    "\n",
    "from aiida import load_profile\n",
    "from aiida.orm import Dict, load_node\n",
    "from aiida.plugins import DataFactory\n",
    "\n",
    "from aiida_vasp_ext_mlauer.util.functions import Murnaghan\n",
    "\n",
    "load_profile('lauerm-test')"
   ]
  },
  {
   "cell_type": "code",
   "execution_count": 12,
   "id": "7e32b758",
   "metadata": {},
   "outputs": [],
   "source": [
    "def locate_minimum_interpolate(total_energies):\n",
    "    total_energies_array = total_energies.get_array('eos')\n",
    "\n",
    "    volumes = total_energies_array[:,0]\n",
    "    energies = total_energies_array[:,1]\n",
    "\n",
    "    ## get minimum energy guess\n",
    "    min_energy_guess_idx = energies.argmin()\n",
    "\n",
    "    new_energies = CubicSpline(volumes, energies)\n",
    "    min_energy_point = minimize(new_energies, volumes[min_energy_guess_idx], tol=1e-3)  # I should make these numbers optional under wc_metadata.plot_options\n",
    "\n",
    "    # Store Result\n",
    "    dict_data = {'volume': min_energy_point.x[0], 'energy': min_energy_point.fun}\n",
    "\n",
    "    parameters = {'type': '1D cubic Interpolation'}\n",
    "\n",
    "    return {\n",
    "        \"min_energy\": Dict(dict = dict_data), \n",
    "        \"parameters\": Dict(dict = parameters) \n",
    "    }"
   ]
  },
  {
   "cell_type": "code",
   "execution_count": 72,
   "id": "bbb64205",
   "metadata": {},
   "outputs": [
    {
     "name": "stdout",
     "output_type": "stream",
     "text": [
      "[-4.87737532 14.59544406 31.52344671  3.76631628]\n"
     ]
    },
    {
     "data": {
      "text/plain": [
       "{'min_energy': <Dict: uuid: 19d0f467-7e41-42f6-b5b0-b950d87d185f (unstored)>,\n",
       " 'parameters': <Dict: uuid: 4cf613fe-9675-4cac-aff8-51fbbeff2533 (unstored)>}"
      ]
     },
     "execution_count": 72,
     "metadata": {},
     "output_type": "execute_result"
    }
   ],
   "source": [
    "def locate_minimum_murnaghan(total_energies):\n",
    "    total_energies_array = total_energies.get_array('eos')\n",
    "\n",
    "    volumes = total_energies_array[:,0]\n",
    "    energies = total_energies_array[:,1]\n",
    "\n",
    "    # Document Type of Analysis\n",
    "    parameters = {'type': 'Murnaghan EoS Fit'}\n",
    "\n",
    "    ## get minimum energy guess\n",
    "    min_energy_guess_idx = energies.argmin()\n",
    "\n",
    "    ## Fit Murnaghan Equation of State\n",
    "    params, covar = curve_fit(Murnaghan, volumes, energies, p0=[energies[min_energy_guess_idx], volumes[min_energy_guess_idx], 10, 2.5])\n",
    "    print(params)\n",
    "    parameters |= {'E0': params[0], \n",
    "                   'V0': params[1], \n",
    "                   'K0': params[2], \n",
    "                   'K1': params[3],\n",
    "                   #'covariance': covar.tolist()\n",
    "                   }\n",
    "\n",
    "    min_energy_point = Murnaghan(params[1], *params)\n",
    "\n",
    "    # Store Result\n",
    "    dict_data = {'volume': params[0], 'energy': min_energy_point}\n",
    "\n",
    "    return {\n",
    "        \"min_energy\": Dict(dict = dict_data), \n",
    "        \"parameters\": Dict(dict = parameters) \n",
    "    }\n",
    "\n",
    "locate_minimum_murnaghan(total_energies)"
   ]
  },
  {
   "cell_type": "code",
   "execution_count": 66,
   "id": "0deb32c6",
   "metadata": {},
   "outputs": [],
   "source": [
    "def create_plot(total_energies, parameters):\n",
    "    total_energies_array = total_energies.get_array('eos')\n",
    "    parameters = parameters.get_dict()\n",
    "\n",
    "    volumes = total_energies_array[:,0]\n",
    "    energies = total_energies_array[:,1]\n",
    "    type = parameters['type'] \n",
    "\n",
    "    x_fit = np.linspace(volumes.min() - 1, volumes.max() + 1, 500)\n",
    "\n",
    "    fig, ax = plt.subplots()\n",
    "    ax.scatter(volumes, energies)\n",
    "\n",
    "    match type:\n",
    "        case \"Murnaghan EoS Fit\":\n",
    "            params = [parameters.get(para) for para in ['E0', 'V0', 'K0', 'K1']]\n",
    "            v0 = parameters.get('V0')\n",
    "        \n",
    "            ax.set_title('Murnaghan EoS Plot') # I should make these numbers optional under wc_metadata.plot_options\n",
    "            y_fit = Murnaghan(x_fit, *params)\n",
    "\n",
    "            ax.plot(x_fit, y_fit, label='Murnaghan Fit', color='orange')\n",
    "            \n",
    "\n",
    "        case \"1D cubic Interpolation\":\n",
    "            min_energy_guess_idx = energies.argmin()\n",
    "            y_fit = CubicSpline(volumes, energies)\n",
    "            \n",
    "            v0 = minimize(y_fit, min_energy_guess_idx, tol=1e-3).x[0]\n",
    "\n",
    "            ax.set_title(\"Interpolated EoS Plot\")\n",
    "            ax.plot(x_fit, y_fit(x_fit))\n",
    "    \n",
    "    ax.axvline(x=v0, color='grey', linestyle='--', label=f'$V_0 = {v0:.3f} A^3$')\n",
    "\n",
    "    ax.set_xlabel(r'Volume / $10^\\mathrm{-30} m^\\mathrm{3}$')\n",
    "    ax.set_ylabel(r'Energy / eV')\n",
    "    ax.legend()\n",
    "\n",
    "    buffer = io.BytesIO()\n",
    "    fig.savefig(buffer, format='png')\n",
    "    plt.close(fig)\n",
    "\n",
    "    buffer.seek(0)\n",
    "\n",
    "    plot_file = DataFactory('core.singlefile')(file=buffer, filename='eos_plot.png')\n",
    "\n",
    "    return plot_file"
   ]
  },
  {
   "cell_type": "code",
   "execution_count": 76,
   "id": "a80531f1",
   "metadata": {},
   "outputs": [
    {
     "name": "stdout",
     "output_type": "stream",
     "text": [
      "[-4.87737532 14.59544406 31.52344671  3.76631628]\n"
     ]
    }
   ],
   "source": [
    "total_energies = load_node(743)\n",
    "parameters = load_node(746)\n",
    "\n",
    "d = locate_minimum_murnaghan(total_energies)\n",
    "a = create_plot(total_energies, d['parameters'])\n",
    "c = create_plot(total_energies, parameters=Dict(dict={'type': '1D cubic Interpolation'}))"
   ]
  },
  {
   "cell_type": "code",
   "execution_count": 83,
   "id": "0d33ceb2",
   "metadata": {},
   "outputs": [
    {
     "data": {
      "image/png": "[encoded data removed]",
      "text/plain": [
       "<Figure size 1200x600 with 2 Axes>"
      ]
     },
     "metadata": {},
     "output_type": "display_data"
    }
   ],
   "source": [
    "from PIL import Image\n",
    "fig, axes = plt.subplots(1,2, figsize=(12,6))\n",
    "\n",
    "b = a.get_content(mode='rb')\n",
    "Image_data = Image.open(io.BytesIO(b))\n",
    "\n",
    "Image_data.show()\n",
    "\n",
    "b = c.get_content(mode='rb')\n",
    "Image_data = Image.open(io.BytesIO(b))\n",
    "\n",
    "Image_data.show()"
   ]
  }
 ],
 "metadata": {
  "kernelspec": {
   "display_name": "aiida",
   "language": "python",
   "name": "python3"
  },
  "language_info": {
   "codemirror_mode": {
    "name": "ipython",
    "version": 3
   },
   "file_extension": ".py",
   "mimetype": "text/x-python",
   "name": "python",
   "nbconvert_exporter": "python",
   "pygments_lexer": "ipython3",
   "version": "3.12.7"
  }
 },
 "nbformat": 4,
 "nbformat_minor": 5
}
