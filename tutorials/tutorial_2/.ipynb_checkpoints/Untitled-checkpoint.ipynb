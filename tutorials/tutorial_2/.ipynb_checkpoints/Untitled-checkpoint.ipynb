{
 "cells": [
  {
   "cell_type": "code",
   "execution_count": 1,
   "id": "4f49f357-8cf1-45d4-8d0d-0a4f5f8c1f90",
   "metadata": {},
   "outputs": [
    {
     "data": {
      "text/plain": [
       "Profile<uuid='f4d23725fea446908276e21eedde97d3' name='lauerm-test'>"
      ]
     },
     "execution_count": 1,
     "metadata": {},
     "output_type": "execute_result"
    }
   ],
   "source": [
    "import numpy as np\n",
    "import pandas as pd\n",
    "import matplotlib.pyplot as plt\n",
    "\n",
    "from aiida import load_profile\n",
    "from aiida.orm import load_group, load_node\n",
    "\n",
    "load_profile('lauerm-test')"
   ]
  },
  {
   "cell_type": "code",
   "execution_count": 2,
   "id": "4d966973-05db-4a62-9419-e5247830aef5",
   "metadata": {},
   "outputs": [],
   "source": [
    "original_matrix = np.array([[1/2, 1/2, 0],\n",
    "                            [0, 1/2, 1/2],\n",
    "                            [1/2, 0, 1/2]\n",
    "                            ])\n",
    "\n",
    "group = load_group(5)"
   ]
  },
  {
   "cell_type": "code",
   "execution_count": 3,
   "id": "e1099c10-ab0e-4ec6-bee6-2477d1526723",
   "metadata": {},
   "outputs": [],
   "source": [
    "alats = []\n",
    "energies = []\n",
    "for node in group.nodes:\n",
    "    structure = node.inputs['structure'].get_pymatgen()\n",
    "    lattice = structure.lattice.matrix\n",
    "\n",
    "    alat = np.matmul(lattice, np.linalg.inv(original_matrix))[1,1]\n",
    "    \n",
    "    energy = node.outputs['misc'].get_dict()['total_energies']['energy_extrapolated'] \n",
    "    \n",
    "    alats.append(alat)\n",
    "    energies.append(energy)"
   ]
  },
  {
   "cell_type": "code",
   "execution_count": null,
   "id": "41678a45-3b99-4e93-9af2-82bb2ccf4ce7",
   "metadata": {},
   "outputs": [],
   "source": [
    "eos_ser = pd.Series(index=alats, data=energies)\n",
    "eos_ser.plot()"
   ]
  }
 ],
 "metadata": {
  "kernelspec": {
   "display_name": "Python 3 (ipykernel)",
   "language": "python",
   "name": "python3"
  },
  "language_info": {
   "codemirror_mode": {
    "name": "ipython",
    "version": 3
   },
   "file_extension": ".py",
   "mimetype": "text/x-python",
   "name": "python",
   "nbconvert_exporter": "python",
   "pygments_lexer": "ipython3",
   "version": "3.12.6"
  }
 },
 "nbformat": 4,
 "nbformat_minor": 5
}
